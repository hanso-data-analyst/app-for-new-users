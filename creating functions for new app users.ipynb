{
 "cells": [
  {
   "cell_type": "code",
   "execution_count": 2,
   "id": "95ecb48c-628b-430d-a775-f9ae09343736",
   "metadata": {},
   "outputs": [],
   "source": [
    "### Download lbraries from python"
   ]
  },
  {
   "cell_type": "markdown",
   "id": "1da6fb74-6fb5-43d7-b0ff-cc2209085620",
   "metadata": {},
   "source": [
    "### function to validate user input from sign up form"
   ]
  },
  {
   "cell_type": "code",
   "execution_count": 4,
   "id": "9e9e45c7-525d-46a0-9535-09c3e036b344",
   "metadata": {},
   "outputs": [],
   "source": [
    "def validate_user(name, email, password):\n",
    "    \"\"\" validate user name, email, password.\n",
    "    \n",
    "    Args:\n",
    "        name (string): Name we are trying to validate.\n",
    "        email (string): Email address we are attempting to validate.\n",
    "        password (string): Password we are attempting to validate.\n",
    "\n",
    "    Returns:\n",
    "        Boolean: Will return True if all validation checks pass\n",
    "\n",
    "        Raises a ValueError if validation fails.\n",
    "    \"\"\""
   ]
  },
  {
   "cell_type": "markdown",
   "id": "38df9509-bb79-43f8-b658-cf2ac17097c1",
   "metadata": {},
   "source": [
    "# Check if name is not valid, if not raise value error."
   ]
  },
  {
   "cell_type": "code",
   "execution_count": 6,
   "id": "8956927c-8d5b-447b-adc2-d4b95e8f29b0",
   "metadata": {},
   "outputs": [],
   "source": [
    "### Check if name is not valid, if not raise value error.\n",
    "def validate_name(name):\n",
    "    if len(name) <= 2:\n",
    "        raise ValueError(\"please make sure your name is greater than 2 charactors!\")"
   ]
  },
  {
   "cell_type": "markdown",
   "id": "7c89082f-2fab-4723-b990-43a56816acba",
   "metadata": {},
   "source": [
    "### check if email is not valid, if not raise value error."
   ]
  },
  {
   "cell_type": "code",
   "execution_count": 8,
   "id": "a46b416c-5ad5-4ae0-80a2-1acc9da1940b",
   "metadata": {},
   "outputs": [],
   "source": [
    "### check if email is valid, if not raise value error.\n",
    "def validate_email(email):\n",
    "    if validate_email(email) == False:\n",
    "        raise ValueError(\"Your email address is in the incorrect format, please enter a valid email.\")"
   ]
  },
  {
   "cell_type": "markdown",
   "id": "56e37560-55ee-48e8-a96c-8593d563999c",
   "metadata": {},
   "source": [
    "### check if password is valid "
   ]
  },
  {
   "cell_type": "code",
   "execution_count": 10,
   "id": "2df126d1-7584-40b6-aea3-be5ac41902ae",
   "metadata": {},
   "outputs": [],
   "source": [
    "def validate_password(password):\n",
    "    if validate_password(\"password\") == False:\n",
    "        raise ValueError(\"\"\"Your password is too weak, ensure that your password is greater than 8 \n",
    "    characters, contains a capital letter and a number.\"\"\")\n",
    "    # If none of the if not statements are triggered, return True\n",
    "    return True"
   ]
  },
  {
   "cell_type": "code",
   "execution_count": 11,
   "id": "27d20ed5-acc8-434e-afa8-1454ad465e2f",
   "metadata": {},
   "outputs": [],
   "source": [
    "# Function to register validated user if all checks have passed\n",
    "def register_user(name, email, password):\n",
    "    \"\"\"Attempt to register the user if they pass validation.\n",
    "\n",
    "    Args:\n",
    "        name (string): Name of the user\n",
    "        email (string): Email address of the user\n",
    "        password (string): Password of the user\n",
    "\n",
    "    Returns:\n",
    "        Dict: Return a dictionary with the user details\n",
    "\n",
    "    Raises ValueError on missing arguments.\n",
    "\n",
    "    \"\"\"\n"
   ]
  },
  {
   "cell_type": "markdown",
   "id": "d216240e-914e-4137-a9c8-d768a172374e",
   "metadata": {},
   "source": [
    "# Check if user input is valid by calling the validate user function\n"
   ]
  },
  {
   "cell_type": "code",
   "execution_count": 325,
   "id": "910ba788-8edf-4fde-a284-9344f2049cba",
   "metadata": {},
   "outputs": [
    {
     "ename": "SyntaxError",
     "evalue": "'return' outside function (4226432173.py, line 7)",
     "output_type": "error",
     "traceback": [
      "\u001b[1;36m  Cell \u001b[1;32mIn[325], line 7\u001b[1;36m\u001b[0m\n\u001b[1;33m    return user\u001b[0m\n\u001b[1;37m    ^\u001b[0m\n\u001b[1;31mSyntaxError\u001b[0m\u001b[1;31m:\u001b[0m 'return' outside function\n"
     ]
    }
   ],
   "source": [
    "if validate_user(name, email, password):\n",
    "    user = {\n",
    "        \"name\": name,\n",
    "        \"email\": email,\n",
    "        \"password\": password\n",
    "    }\n",
    "    return user\n",
    "# if validation fails, return false\n",
    "return False"
   ]
  },
  {
   "cell_type": "code",
   "execution_count": null,
   "id": "104d9be1-ba54-401c-873c-4d4a7088f770",
   "metadata": {},
   "outputs": [],
   "source": []
  },
  {
   "cell_type": "code",
   "execution_count": null,
   "id": "b08f6af9-f8f3-4b9f-b8f7-4c9fe91af6d7",
   "metadata": {},
   "outputs": [],
   "source": []
  },
  {
   "cell_type": "code",
   "execution_count": null,
   "id": "0f85cc57-8b04-407a-b360-f28f1c230f8f",
   "metadata": {},
   "outputs": [],
   "source": []
  },
  {
   "cell_type": "code",
   "execution_count": null,
   "id": "8cf12daf-a858-410e-880a-55bae75687cc",
   "metadata": {},
   "outputs": [],
   "source": []
  },
  {
   "cell_type": "code",
   "execution_count": null,
   "id": "881b5d2a-cc16-480a-ad0c-3fc1adb5e925",
   "metadata": {},
   "outputs": [],
   "source": []
  },
  {
   "cell_type": "code",
   "execution_count": null,
   "id": "78547b60-e334-4f09-8992-786f3acdeda5",
   "metadata": {},
   "outputs": [],
   "source": []
  },
  {
   "cell_type": "code",
   "execution_count": null,
   "id": "819b2803-cbaf-40cf-b91e-b19d3498cec6",
   "metadata": {},
   "outputs": [],
   "source": []
  },
  {
   "cell_type": "code",
   "execution_count": null,
   "id": "288777a2-6560-4829-a0fb-c5853128a34d",
   "metadata": {},
   "outputs": [],
   "source": []
  }
 ],
 "metadata": {
  "kernelspec": {
   "display_name": "Python 3 (ipykernel)",
   "language": "python",
   "name": "python3"
  },
  "language_info": {
   "codemirror_mode": {
    "name": "ipython",
    "version": 3
   },
   "file_extension": ".py",
   "mimetype": "text/x-python",
   "name": "python",
   "nbconvert_exporter": "python",
   "pygments_lexer": "ipython3",
   "version": "3.12.4"
  }
 },
 "nbformat": 4,
 "nbformat_minor": 5
}
